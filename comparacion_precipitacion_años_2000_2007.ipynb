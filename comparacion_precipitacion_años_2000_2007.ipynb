{
  "metadata": {
    "kernelspec": {
      "language": "python",
      "display_name": "Python 3",
      "name": "python3"
    },
    "language_info": {
      "pygments_lexer": "ipython3",
      "nbconvert_exporter": "python",
      "version": "3.6.4",
      "file_extension": ".py",
      "codemirror_mode": {
        "name": "ipython",
        "version": 3
      },
      "name": "python",
      "mimetype": "text/x-python"
    },
    "kaggle": {
      "accelerator": "none",
      "dataSources": [
        {
          "sourceId": 4203015,
          "sourceType": "datasetVersion",
          "datasetId": 2478031
        }
      ],
      "dockerImageVersionId": 30235,
      "isInternetEnabled": false,
      "language": "python",
      "sourceType": "notebook",
      "isGpuEnabled": false
    },
    "colab": {
      "provenance": [],
      "include_colab_link": true
    }
  },
  "nbformat_minor": 0,
  "nbformat": 4,
  "cells": [
    {
      "cell_type": "markdown",
      "metadata": {
        "id": "view-in-github",
        "colab_type": "text"
      },
      "source": [
        "<a href=\"https://colab.research.google.com/github/SamyCol/MiwebCHAtGPT/blob/main/comparacion_precipitacion_a%C3%B1os_2000_2007.ipynb\" target=\"_parent\"><img src=\"https://colab.research.google.com/assets/colab-badge.svg\" alt=\"Open In Colab\"/></a>"
      ]
    },
    {
      "cell_type": "code",
      "source": [
        "import numpy as np\n",
        "import matplotlib.pyplot as plt\n",
        "%matplotlib inline\n",
        "import pandas as pd\n",
        "import os\n",
        "import seaborn as sns\n",
        "sns.set(font_scale=1.5, style=\"whitegrid\")"
      ],
      "metadata": {
        "_uuid": "8f2839f25d086af736a60e9eeb907d3b93b6e0e5",
        "_cell_guid": "b1076dfc-b9ad-4769-8c92-a6c4dae69d19",
        "execution": {
          "iopub.status.busy": "2022-09-14T11:02:55.818187Z",
          "iopub.execute_input": "2022-09-14T11:02:55.819432Z",
          "iopub.status.idle": "2022-09-14T11:02:56.445956Z",
          "shell.execute_reply.started": "2022-09-14T11:02:55.819345Z",
          "shell.execute_reply": "2022-09-14T11:02:56.443973Z"
        },
        "trusted": true,
        "id": "xmhR94ers0oE"
      },
      "outputs": [],
      "execution_count": 100
    },
    {
      "cell_type": "code",
      "source": [
        "import numpy as np\n",
        "df = pd.read_csv('/content/data_file.txt', sep=\"\\t\")\n",
        "print(df.head())\n",
        "print(df.shape)"
      ],
      "metadata": {
        "execution": {
          "iopub.status.busy": "2022-09-14T11:02:56.452261Z",
          "iopub.execute_input": "2022-09-14T11:02:56.452604Z",
          "iopub.status.idle": "2022-09-14T11:02:56.740285Z",
          "shell.execute_reply.started": "2022-09-14T11:02:56.452571Z",
          "shell.execute_reply": "2022-09-14T11:02:56.738678Z"
        },
        "trusted": true,
        "colab": {
          "base_uri": "https://localhost:8080/"
        },
        "id": "ZkqPHDNks0oJ",
        "outputId": "41e5c35a-6ee7-461b-81bf-a5bf4d50496e"
      },
      "outputs": [
        {
          "output_type": "stream",
          "name": "stdout",
          "text": [
            "     # STATION                     STATION_NAME  ELEVATION  LATITUDE  \\\n",
            "0  COOP:352709  EUGENE MAHLON SWEET FIELD OR US      107.6  44.12778   \n",
            "1  COOP:352709  EUGENE MAHLON SWEET FIELD OR US      107.6  44.12778   \n",
            "2  COOP:352709  EUGENE MAHLON SWEET FIELD OR US      107.6  44.12778   \n",
            "3  COOP:352709  EUGENE MAHLON SWEET FIELD OR US      107.6  44.12778   \n",
            "4  COOP:352709  EUGENE MAHLON SWEET FIELD OR US      107.6  44.12778   \n",
            "\n",
            "   LONGITUDE            DATE  HPCP(cm)  \n",
            "0 -123.22056  20000101 01:00      0.00  \n",
            "1 -123.22056  20000101 02:00      0.00  \n",
            "2 -123.22056  20000101 05:00      0.00  \n",
            "3 -123.22056  20000101 06:00      0.00  \n",
            "4 -123.22056  20000101 08:00      0.51  \n",
            "(23839, 7)\n"
          ]
        }
      ],
      "execution_count": 101
    },
    {
      "cell_type": "code",
      "source": [
        "df = np.genfromtxt('/content/data_file.txt', delimiter=\"\\t\")\n",
        "# Convert the NumPy ndarray to a Pandas DataFrame to use .head()\n",
        "df = pd.DataFrame(df)\n",
        "print(df.head())\n",
        "print(df.shape)"
      ],
      "metadata": {
        "colab": {
          "base_uri": "https://localhost:8080/"
        },
        "id": "XoWKfDrYBZO2",
        "outputId": "a795d241-dd86-417d-8837-989b31870d79"
      },
      "execution_count": 102,
      "outputs": [
        {
          "output_type": "stream",
          "name": "stdout",
          "text": [
            "    0   1      2         3          4   5     6\n",
            "0 NaN NaN  107.6  44.12778 -123.22056 NaN  0.00\n",
            "1 NaN NaN  107.6  44.12778 -123.22056 NaN  0.00\n",
            "2 NaN NaN  107.6  44.12778 -123.22056 NaN  0.00\n",
            "3 NaN NaN  107.6  44.12778 -123.22056 NaN  0.00\n",
            "4 NaN NaN  107.6  44.12778 -123.22056 NaN  0.51\n",
            "(23839, 7)\n"
          ]
        }
      ]
    },
    {
      "cell_type": "code",
      "source": [
        "#Access the 7th column (index 6) using .iloc[] for integer-based indexing\n",
        "mean = np.mean(df.iloc[:, 6])\n",
        "std = np.std(df.iloc[:, 6])\n",
        "print(\"Mean= \", mean)\n",
        "print(\"Standard Deviation:0 \", std)"
      ],
      "metadata": {
        "execution": {
          "iopub.status.busy": "2022-09-14T11:02:56.741926Z",
          "iopub.execute_input": "2022-09-14T11:02:56.742805Z",
          "iopub.status.idle": "2022-09-14T11:02:56.750517Z",
          "shell.execute_reply.started": "2022-09-14T11:02:56.74276Z",
          "shell.execute_reply": "2022-09-14T11:02:56.748501Z"
        },
        "trusted": true,
        "colab": {
          "base_uri": "https://localhost:8080/"
        },
        "id": "ybfDxzgXs0oK",
        "outputId": "d1bb9d57-6778-4f99-beca-49616979176e"
      },
      "outputs": [
        {
          "output_type": "stream",
          "name": "stdout",
          "text": [
            "Mean=  0.532994253114644\n",
            "Standard Deviation:0  0.9557358610652827\n"
          ]
        }
      ],
      "execution_count": 103
    },
    {
      "cell_type": "code",
      "source": [
        "from scipy.stats import norm\n",
        "import matplotlib.pyplot as plt\n",
        "plt.plot(df.iloc[:, 6], norm.pdf(df.iloc[:, 6], mean + std), label='μ + 1σ')\n",
        "plt.plot(df.iloc[:, 6], norm.pdf(df.iloc[:, 6], mean + 2 * std), label='μ + 2σ')\n",
        "plt.legend()\n",
        "plt.show()"
      ],
      "metadata": {
        "execution": {
          "iopub.status.busy": "2022-09-14T11:02:56.754756Z",
          "iopub.execute_input": "2022-09-14T11:02:56.755482Z",
          "iopub.status.idle": "2022-09-14T11:02:57.718715Z",
          "shell.execute_reply.started": "2022-09-14T11:02:56.755443Z",
          "shell.execute_reply": "2022-09-14T11:02:57.717173Z"
        },
        "trusted": true,
        "colab": {
          "base_uri": "https://localhost:8080/",
          "height": 442
        },
        "id": "oKH-_-pvs0oL",
        "outputId": "ab88c620-a350-40f7-f851-aad1214d6b6c"
      },
      "outputs": [
        {
          "output_type": "display_data",
          "data": {
            "text/plain": [
              "<Figure size 640x480 with 1 Axes>"
            ],
            "image/png": "[encoded data removed]"
          },
          "metadata": {}
        }
      ],
      "execution_count": 104
    },
    {
      "cell_type": "code",
      "source": [
        "df = pd.read_csv('/content/data_file.txt', sep=\"\\t\")\n",
        "df.columns"
      ],
      "metadata": {
        "execution": {
          "iopub.status.busy": "2022-09-14T11:02:57.720662Z",
          "iopub.execute_input": "2022-09-14T11:02:57.72105Z",
          "iopub.status.idle": "2022-09-14T11:02:57.768297Z",
          "shell.execute_reply.started": "2022-09-14T11:02:57.721007Z",
          "shell.execute_reply": "2022-09-14T11:02:57.766466Z"
        },
        "trusted": true,
        "colab": {
          "base_uri": "https://localhost:8080/"
        },
        "id": "TB2GQHYcs0oM",
        "outputId": "ce2e2d26-681a-42f9-bebe-58d2c85c9b6a"
      },
      "outputs": [
        {
          "output_type": "execute_result",
          "data": {
            "text/plain": [
              "Index(['# STATION', 'STATION_NAME', 'ELEVATION', 'LATITUDE', 'LONGITUDE',\n",
              "       'DATE', 'HPCP(cm)'],\n",
              "      dtype='object')"
            ]
          },
          "metadata": {},
          "execution_count": 105
        }
      ],
      "execution_count": 105
    },
    {
      "cell_type": "code",
      "source": [
        "def dateTime(x):\n",
        "    x = x.split()\n",
        "    return x[0][:4]+\"-\"+x[0][4:6]+\"-\"+x[0][6:8]+\" \" +x[1]\n",
        "df[\"date and time\"]=df[\"DATE\"].apply(dateTime)"
      ],
      "metadata": {
        "execution": {
          "iopub.status.busy": "2022-09-14T11:02:57.769906Z",
          "iopub.execute_input": "2022-09-14T11:02:57.770364Z",
          "iopub.status.idle": "2022-09-14T11:02:57.807691Z",
          "shell.execute_reply.started": "2022-09-14T11:02:57.770327Z",
          "shell.execute_reply": "2022-09-14T11:02:57.806272Z"
        },
        "trusted": true,
        "id": "KKe16VHJs0oM"
      },
      "outputs": [],
      "execution_count": 106
    },
    {
      "cell_type": "code",
      "source": [
        "df.info()"
      ],
      "metadata": {
        "execution": {
          "iopub.status.busy": "2022-09-14T11:02:57.809468Z",
          "iopub.execute_input": "2022-09-14T11:02:57.809836Z",
          "iopub.status.idle": "2022-09-14T11:02:57.83619Z",
          "shell.execute_reply.started": "2022-09-14T11:02:57.809803Z",
          "shell.execute_reply": "2022-09-14T11:02:57.834539Z"
        },
        "trusted": true,
        "colab": {
          "base_uri": "https://localhost:8080/"
        },
        "id": "CozESh-ls0oN",
        "outputId": "b4022e8f-4b3c-410f-d4d3-ec6ce5f3a3fe"
      },
      "outputs": [
        {
          "output_type": "stream",
          "name": "stdout",
          "text": [
            "<class 'pandas.core.frame.DataFrame'>\n",
            "RangeIndex: 23839 entries, 0 to 23838\n",
            "Data columns (total 8 columns):\n",
            " #   Column         Non-Null Count  Dtype  \n",
            "---  ------         --------------  -----  \n",
            " 0   # STATION      23839 non-null  object \n",
            " 1   STATION_NAME   23839 non-null  object \n",
            " 2   ELEVATION      23839 non-null  float64\n",
            " 3   LATITUDE       23839 non-null  float64\n",
            " 4   LONGITUDE      23839 non-null  float64\n",
            " 5   DATE           23839 non-null  object \n",
            " 6   HPCP(cm)       23839 non-null  float64\n",
            " 7   date and time  23839 non-null  object \n",
            "dtypes: float64(4), object(4)\n",
            "memory usage: 1.5+ MB\n"
          ]
        }
      ],
      "execution_count": 107
    },
    {
      "cell_type": "code",
      "source": [
        "fig, ax = plt.subplots(figsize=(10, 10))\n",
        "\n",
        "# Add x-axis and y-axis\n",
        "ax.scatter(df.index.values,\n",
        "        df[\"HPCP(cm)\"],\n",
        "        color='purple')\n",
        "\n",
        "# Set title and labels for axes\n",
        "ax.set(xlabel=\"Fecha\",\n",
        "       ylabel=\"Precipitation (cm)\",\n",
        "       title=\"Precipitation Diaria\")\n",
        "\n",
        "plt.show()"
      ],
      "metadata": {
        "execution": {
          "iopub.status.busy": "2022-09-14T11:02:57.838716Z",
          "iopub.execute_input": "2022-09-14T11:02:57.839172Z",
          "iopub.status.idle": "2022-09-14T11:02:58.195974Z",
          "shell.execute_reply.started": "2022-09-14T11:02:57.839123Z",
          "shell.execute_reply": "2022-09-14T11:02:58.194473Z"
        },
        "trusted": true,
        "colab": {
          "base_uri": "https://localhost:8080/",
          "height": 900
        },
        "id": "JhRXi1Rrs0oN",
        "outputId": "a8ca6688-b9df-4330-86a5-610f7852ef7e"
      },
      "outputs": [
        {
          "output_type": "display_data",
          "data": {
            "text/plain": [
              "<Figure size 1000x1000 with 1 Axes>"
            ],
            "image/png": "[encoded data removed]"
          },
          "metadata": {}
        }
      ],
      "execution_count": 108
    },
    {
      "cell_type": "markdown",
      "source": [
        "Se modifica el formato fecha y la precipitacion se da en mm"
      ],
      "metadata": {
        "id": "0EAZ6VaoNhQe"
      }
    },
    {
      "cell_type": "code",
      "source": [
        "import pandas as pd\n",
        "import matplotlib.pyplot as plt\n",
        "\n",
        "def dateTime(x):\n",
        "  x = x.split()\n",
        "  return x[0][:4]+\"-\"+x[0][4:6]+\"-\"+x[0][6:8]+\" \" +x[1]\n",
        "\n",
        "df[\"date and time\"] = df[\"DATE\"].apply(dateTime)\n",
        "df[\"date and time\"] = pd.to_datetime(df[\"date and time\"])\n",
        "\n",
        "# 2. Multiply \"HPCP(cm)\" by 10 to convert to mm\n",
        "df[\"HPCP(mm)\"] = df[\"HPCP(cm)\"] * 10\n",
        "\n",
        "# 3. Create the scatter plot\n",
        "fig, ax = plt.subplots(figsize=(10, 10))\n",
        "\n",
        "# Add x-axis and y-axis using the new column and date format\n",
        "ax.scatter(df[\"date and time\"],\n",
        "           df[\"HPCP(mm)\"],\n",
        "           color='purple')\n",
        "\n",
        "# Set title and labels for axes\n",
        "ax.set(xlabel=\"Fecha\",\n",
        "       ylabel=\"Precipitacion (mm)\",\n",
        "       title=\"Precipitation Diaria\")\n",
        "\n",
        "plt.show()"
      ],
      "metadata": {
        "colab": {
          "base_uri": "https://localhost:8080/",
          "height": 900
        },
        "id": "e-9-BM79Luqe",
        "outputId": "c513b1cb-bdc3-485e-94cf-f41e2b897e7b"
      },
      "execution_count": 109,
      "outputs": [
        {
          "output_type": "display_data",
          "data": {
            "text/plain": [
              "<Figure size 1000x1000 with 1 Axes>"
            ],
            "image/png": "[encoded data removed]"
          },
          "metadata": {}
        }
      ]
    },
    {
      "cell_type": "code",
      "source": [
        "df1 = df[df[\"date and time\"].dt.year == 2007]\n",
        "df2 = df.head(1674)"
      ],
      "metadata": {
        "execution": {
          "iopub.status.busy": "2022-09-14T11:02:58.595772Z",
          "iopub.execute_input": "2022-09-14T11:02:58.596698Z",
          "iopub.status.idle": "2022-09-14T11:02:58.602798Z",
          "shell.execute_reply.started": "2022-09-14T11:02:58.596657Z",
          "shell.execute_reply": "2022-09-14T11:02:58.601517Z"
        },
        "trusted": true,
        "id": "HR7oqmj3s0oP"
      },
      "outputs": [],
      "execution_count": 110
    },
    {
      "cell_type": "code",
      "source": [
        "print(\"Data of 2000\")\n",
        "df2"
      ],
      "metadata": {
        "execution": {
          "iopub.status.busy": "2022-09-14T11:02:58.604314Z",
          "iopub.execute_input": "2022-09-14T11:02:58.604706Z",
          "iopub.status.idle": "2022-09-14T11:02:58.643631Z",
          "shell.execute_reply.started": "2022-09-14T11:02:58.604669Z",
          "shell.execute_reply": "2022-09-14T11:02:58.641894Z"
        },
        "trusted": true,
        "colab": {
          "base_uri": "https://localhost:8080/",
          "height": 441
        },
        "id": "x8lXsHuKs0oQ",
        "outputId": "9a55c9fd-a744-4f81-d636-8a9a3ace8288"
      },
      "outputs": [
        {
          "output_type": "stream",
          "name": "stdout",
          "text": [
            "Data of 2000\n"
          ]
        },
        {
          "output_type": "execute_result",
          "data": {
            "text/plain": [
              "        # STATION                     STATION_NAME  ELEVATION  LATITUDE  \\\n",
              "0     COOP:352709  EUGENE MAHLON SWEET FIELD OR US      107.6  44.12778   \n",
              "1     COOP:352709  EUGENE MAHLON SWEET FIELD OR US      107.6  44.12778   \n",
              "2     COOP:352709  EUGENE MAHLON SWEET FIELD OR US      107.6  44.12778   \n",
              "3     COOP:352709  EUGENE MAHLON SWEET FIELD OR US      107.6  44.12778   \n",
              "4     COOP:352709  EUGENE MAHLON SWEET FIELD OR US      107.6  44.12778   \n",
              "...           ...                              ...        ...       ...   \n",
              "1669  COOP:352709  EUGENE MAHLON SWEET FIELD OR US      107.6  44.12778   \n",
              "1670  COOP:352709  EUGENE MAHLON SWEET FIELD OR US      107.6  44.12778   \n",
              "1671  COOP:352709  EUGENE MAHLON SWEET FIELD OR US      107.6  44.12778   \n",
              "1672  COOP:352709  EUGENE MAHLON SWEET FIELD OR US      107.6  44.12778   \n",
              "1673  COOP:352709  EUGENE MAHLON SWEET FIELD OR US      107.6  44.12778   \n",
              "\n",
              "      LONGITUDE            DATE  HPCP(cm)       date and time  HPCP(mm)  \n",
              "0    -123.22056  20000101 01:00      0.00 2000-01-01 01:00:00       0.0  \n",
              "1    -123.22056  20000101 02:00      0.00 2000-01-01 02:00:00       0.0  \n",
              "2    -123.22056  20000101 05:00      0.00 2000-01-01 05:00:00       0.0  \n",
              "3    -123.22056  20000101 06:00      0.00 2000-01-01 06:00:00       0.0  \n",
              "4    -123.22056  20000101 08:00      0.51 2000-01-01 08:00:00       5.1  \n",
              "...         ...             ...       ...                 ...       ...  \n",
              "1669 -123.22056  20001229 22:00      0.00 2000-12-29 22:00:00       0.0  \n",
              "1670 -123.22056  20001229 23:00      0.00 2000-12-29 23:00:00       0.0  \n",
              "1671 -123.22056  20001231 03:00      0.25 2000-12-31 03:00:00       2.5  \n",
              "1672 -123.22056  20001231 06:00      0.00 2000-12-31 06:00:00       0.0  \n",
              "1673 -123.22056  20010101 01:00      0.00 2001-01-01 01:00:00       0.0  \n",
              "\n",
              "[1674 rows x 9 columns]"
            ],
            "text/html": [
              "\n",
              "  <div id=\"df-ef9b254c-f038-4faf-a101-0dfa35670036\" class=\"colab-df-container\">\n",
              "    <div>\n",
              "<style scoped>\n",
              "    .dataframe tbody tr th:only-of-type {\n",
              "        vertical-align: middle;\n",
              "    }\n",
              "\n",
              "    .dataframe tbody tr th {\n",
              "        vertical-align: top;\n",
              "    }\n",
              "\n",
              "    .dataframe thead th {\n",
              "        text-align: right;\n",
              "    }\n",
              "</style>\n",
              "<table border=\"1\" class=\"dataframe\">\n",
              "  <thead>\n",
              "    <tr style=\"text-align: right;\">\n",
              "      <th></th>\n",
              "      <th># STATION</th>\n",
              "      <th>STATION_NAME</th>\n",
              "      <th>ELEVATION</th>\n",
              "      <th>LATITUDE</th>\n",
              "      <th>LONGITUDE</th>\n",
              "      <th>DATE</th>\n",
              "      <th>HPCP(cm)</th>\n",
              "      <th>date and time</th>\n",
              "      <th>HPCP(mm)</th>\n",
              "    </tr>\n",
              "  </thead>\n",
              "  <tbody>\n",
              "    <tr>\n",
              "      <th>0</th>\n",
              "      <td>COOP:352709</td>\n",
              "      <td>EUGENE MAHLON SWEET FIELD OR US</td>\n",
              "      <td>107.6</td>\n",
              "      <td>44.12778</td>\n",
              "      <td>-123.22056</td>\n",
              "      <td>20000101 01:00</td>\n",
              "      <td>0.00</td>\n",
              "      <td>2000-01-01 01:00:00</td>\n",
              "      <td>0.0</td>\n",
              "    </tr>\n",
              "    <tr>\n",
              "      <th>1</th>\n",
              "      <td>COOP:352709</td>\n",
              "      <td>EUGENE MAHLON SWEET FIELD OR US</td>\n",
              "      <td>107.6</td>\n",
              "      <td>44.12778</td>\n",
              "      <td>-123.22056</td>\n",
              "      <td>20000101 02:00</td>\n",
              "      <td>0.00</td>\n",
              "      <td>2000-01-01 02:00:00</td>\n",
              "      <td>0.0</td>\n",
              "    </tr>\n",
              "    <tr>\n",
              "      <th>2</th>\n",
              "      <td>COOP:352709</td>\n",
              "      <td>EUGENE MAHLON SWEET FIELD OR US</td>\n",
              "      <td>107.6</td>\n",
              "      <td>44.12778</td>\n",
              "      <td>-123.22056</td>\n",
              "      <td>20000101 05:00</td>\n",
              "      <td>0.00</td>\n",
              "      <td>2000-01-01 05:00:00</td>\n",
              "      <td>0.0</td>\n",
              "    </tr>\n",
              "    <tr>\n",
              "      <th>3</th>\n",
              "      <td>COOP:352709</td>\n",
              "      <td>EUGENE MAHLON SWEET FIELD OR US</td>\n",
              "      <td>107.6</td>\n",
              "      <td>44.12778</td>\n",
              "      <td>-123.22056</td>\n",
              "      <td>20000101 06:00</td>\n",
              "      <td>0.00</td>\n",
              "      <td>2000-01-01 06:00:00</td>\n",
              "      <td>0.0</td>\n",
              "    </tr>\n",
              "    <tr>\n",
              "      <th>4</th>\n",
              "      <td>COOP:352709</td>\n",
              "      <td>EUGENE MAHLON SWEET FIELD OR US</td>\n",
              "      <td>107.6</td>\n",
              "      <td>44.12778</td>\n",
              "      <td>-123.22056</td>\n",
              "      <td>20000101 08:00</td>\n",
              "      <td>0.51</td>\n",
              "      <td>2000-01-01 08:00:00</td>\n",
              "      <td>5.1</td>\n",
              "    </tr>\n",
              "    <tr>\n",
              "      <th>...</th>\n",
              "      <td>...</td>\n",
              "      <td>...</td>\n",
              "      <td>...</td>\n",
              "      <td>...</td>\n",
              "      <td>...</td>\n",
              "      <td>...</td>\n",
              "      <td>...</td>\n",
              "      <td>...</td>\n",
              "      <td>...</td>\n",
              "    </tr>\n",
              "    <tr>\n",
              "      <th>1669</th>\n",
              "      <td>COOP:352709</td>\n",
              "      <td>EUGENE MAHLON SWEET FIELD OR US</td>\n",
              "      <td>107.6</td>\n",
              "      <td>44.12778</td>\n",
              "      <td>-123.22056</td>\n",
              "      <td>20001229 22:00</td>\n",
              "      <td>0.00</td>\n",
              "      <td>2000-12-29 22:00:00</td>\n",
              "      <td>0.0</td>\n",
              "    </tr>\n",
              "    <tr>\n",
              "      <th>1670</th>\n",
              "      <td>COOP:352709</td>\n",
              "      <td>EUGENE MAHLON SWEET FIELD OR US</td>\n",
              "      <td>107.6</td>\n",
              "      <td>44.12778</td>\n",
              "      <td>-123.22056</td>\n",
              "      <td>20001229 23:00</td>\n",
              "      <td>0.00</td>\n",
              "      <td>2000-12-29 23:00:00</td>\n",
              "      <td>0.0</td>\n",
              "    </tr>\n",
              "    <tr>\n",
              "      <th>1671</th>\n",
              "      <td>COOP:352709</td>\n",
              "      <td>EUGENE MAHLON SWEET FIELD OR US</td>\n",
              "      <td>107.6</td>\n",
              "      <td>44.12778</td>\n",
              "      <td>-123.22056</td>\n",
              "      <td>20001231 03:00</td>\n",
              "      <td>0.25</td>\n",
              "      <td>2000-12-31 03:00:00</td>\n",
              "      <td>2.5</td>\n",
              "    </tr>\n",
              "    <tr>\n",
              "      <th>1672</th>\n",
              "      <td>COOP:352709</td>\n",
              "      <td>EUGENE MAHLON SWEET FIELD OR US</td>\n",
              "      <td>107.6</td>\n",
              "      <td>44.12778</td>\n",
              "      <td>-123.22056</td>\n",
              "      <td>20001231 06:00</td>\n",
              "      <td>0.00</td>\n",
              "      <td>2000-12-31 06:00:00</td>\n",
              "      <td>0.0</td>\n",
              "    </tr>\n",
              "    <tr>\n",
              "      <th>1673</th>\n",
              "      <td>COOP:352709</td>\n",
              "      <td>EUGENE MAHLON SWEET FIELD OR US</td>\n",
              "      <td>107.6</td>\n",
              "      <td>44.12778</td>\n",
              "      <td>-123.22056</td>\n",
              "      <td>20010101 01:00</td>\n",
              "      <td>0.00</td>\n",
              "      <td>2001-01-01 01:00:00</td>\n",
              "      <td>0.0</td>\n",
              "    </tr>\n",
              "  </tbody>\n",
              "</table>\n",
              "<p>1674 rows × 9 columns</p>\n",
              "</div>\n",
              "    <div class=\"colab-df-buttons\">\n",
              "\n",
              "  <div class=\"colab-df-container\">\n",
              "    <button class=\"colab-df-convert\" onclick=\"convertToInteractive('df-ef9b254c-f038-4faf-a101-0dfa35670036')\"\n",
              "            title=\"Convert this dataframe to an interactive table.\"\n",
              "            style=\"display:none;\">\n",
              "\n",
              "  <svg xmlns=\"http://www.w3.org/2000/svg\" height=\"24px\" viewBox=\"0 -960 960 960\">\n",
              "    <path d=\"M120-120v-720h720v720H120Zm60-500h600v-160H180v160Zm220 220h160v-160H400v160Zm0 220h160v-160H400v160ZM180-400h160v-160H180v160Zm440 0h160v-160H620v160ZM180-180h160v-160H180v160Zm440 0h160v-160H620v160Z\"/>\n",
              "  </svg>\n",
              "    </button>\n",
              "\n",
              "  <style>\n",
              "    .colab-df-container {\n",
              "      display:flex;\n",
              "      gap: 12px;\n",
              "    }\n",
              "\n",
              "    .colab-df-convert {\n",
              "      background-color: #E8F0FE;\n",
              "      border: none;\n",
              "      border-radius: 50%;\n",
              "      cursor: pointer;\n",
              "      display: none;\n",
              "      fill: #1967D2;\n",
              "      height: 32px;\n",
              "      padding: 0 0 0 0;\n",
              "      width: 32px;\n",
              "    }\n",
              "\n",
              "    .colab-df-convert:hover {\n",
              "      background-color: #E2EBFA;\n",
              "      box-shadow: 0px 1px 2px rgba(60, 64, 67, 0.3), 0px 1px 3px 1px rgba(60, 64, 67, 0.15);\n",
              "      fill: #174EA6;\n",
              "    }\n",
              "\n",
              "    .colab-df-buttons div {\n",
              "      margin-bottom: 4px;\n",
              "    }\n",
              "\n",
              "    [theme=dark] .colab-df-convert {\n",
              "      background-color: #3B4455;\n",
              "      fill: #D2E3FC;\n",
              "    }\n",
              "\n",
              "    [theme=dark] .colab-df-convert:hover {\n",
              "      background-color: #434B5C;\n",
              "      box-shadow: 0px 1px 3px 1px rgba(0, 0, 0, 0.15);\n",
              "      filter: drop-shadow(0px 1px 2px rgba(0, 0, 0, 0.3));\n",
              "      fill: #FFFFFF;\n",
              "    }\n",
              "  </style>\n",
              "\n",
              "    <script>\n",
              "      const buttonEl =\n",
              "        document.querySelector('#df-ef9b254c-f038-4faf-a101-0dfa35670036 button.colab-df-convert');\n",
              "      buttonEl.style.display =\n",
              "        google.colab.kernel.accessAllowed ? 'block' : 'none';\n",
              "\n",
              "      async function convertToInteractive(key) {\n",
              "        const element = document.querySelector('#df-ef9b254c-f038-4faf-a101-0dfa35670036');\n",
              "        const dataTable =\n",
              "          await google.colab.kernel.invokeFunction('convertToInteractive',\n",
              "                                                    [key], {});\n",
              "        if (!dataTable) return;\n",
              "\n",
              "        const docLinkHtml = 'Like what you see? Visit the ' +\n",
              "          '<a target=\"_blank\" href=https://colab.research.google.com/notebooks/data_table.ipynb>data table notebook</a>'\n",
              "          + ' to learn more about interactive tables.';\n",
              "        element.innerHTML = '';\n",
              "        dataTable['output_type'] = 'display_data';\n",
              "        await google.colab.output.renderOutput(dataTable, element);\n",
              "        const docLink = document.createElement('div');\n",
              "        docLink.innerHTML = docLinkHtml;\n",
              "        element.appendChild(docLink);\n",
              "      }\n",
              "    </script>\n",
              "  </div>\n",
              "\n",
              "\n",
              "<div id=\"df-1021b291-4f73-4722-8324-b2dccde979de\">\n",
              "  <button class=\"colab-df-quickchart\" onclick=\"quickchart('df-1021b291-4f73-4722-8324-b2dccde979de')\"\n",
              "            title=\"Suggest charts\"\n",
              "            style=\"display:none;\">\n",
              "\n",
              "<svg xmlns=\"http://www.w3.org/2000/svg\" height=\"24px\"viewBox=\"0 0 24 24\"\n",
              "     width=\"24px\">\n",
              "    <g>\n",
              "        <path d=\"M19 3H5c-1.1 0-2 .9-2 2v14c0 1.1.9 2 2 2h14c1.1 0 2-.9 2-2V5c0-1.1-.9-2-2-2zM9 17H7v-7h2v7zm4 0h-2V7h2v10zm4 0h-2v-4h2v4z\"/>\n",
              "    </g>\n",
              "</svg>\n",
              "  </button>\n",
              "\n",
              "<style>\n",
              "  .colab-df-quickchart {\n",
              "      --bg-color: #E8F0FE;\n",
              "      --fill-color: #1967D2;\n",
              "      --hover-bg-color: #E2EBFA;\n",
              "      --hover-fill-color: #174EA6;\n",
              "      --disabled-fill-color: #AAA;\n",
              "      --disabled-bg-color: #DDD;\n",
              "  }\n",
              "\n",
              "  [theme=dark] .colab-df-quickchart {\n",
              "      --bg-color: #3B4455;\n",
              "      --fill-color: #D2E3FC;\n",
              "      --hover-bg-color: #434B5C;\n",
              "      --hover-fill-color: #FFFFFF;\n",
              "      --disabled-bg-color: #3B4455;\n",
              "      --disabled-fill-color: #666;\n",
              "  }\n",
              "\n",
              "  .colab-df-quickchart {\n",
              "    background-color: var(--bg-color);\n",
              "    border: none;\n",
              "    border-radius: 50%;\n",
              "    cursor: pointer;\n",
              "    display: none;\n",
              "    fill: var(--fill-color);\n",
              "    height: 32px;\n",
              "    padding: 0;\n",
              "    width: 32px;\n",
              "  }\n",
              "\n",
              "  .colab-df-quickchart:hover {\n",
              "    background-color: var(--hover-bg-color);\n",
              "    box-shadow: 0 1px 2px rgba(60, 64, 67, 0.3), 0 1px 3px 1px rgba(60, 64, 67, 0.15);\n",
              "    fill: var(--button-hover-fill-color);\n",
              "  }\n",
              "\n",
              "  .colab-df-quickchart-complete:disabled,\n",
              "  .colab-df-quickchart-complete:disabled:hover {\n",
              "    background-color: var(--disabled-bg-color);\n",
              "    fill: var(--disabled-fill-color);\n",
              "    box-shadow: none;\n",
              "  }\n",
              "\n",
              "  .colab-df-spinner {\n",
              "    border: 2px solid var(--fill-color);\n",
              "    border-color: transparent;\n",
              "    border-bottom-color: var(--fill-color);\n",
              "    animation:\n",
              "      spin 1s steps(1) infinite;\n",
              "  }\n",
              "\n",
              "  @keyframes spin {\n",
              "    0% {\n",
              "      border-color: transparent;\n",
              "      border-bottom-color: var(--fill-color);\n",
              "      border-left-color: var(--fill-color);\n",
              "    }\n",
              "    20% {\n",
              "      border-color: transparent;\n",
              "      border-left-color: var(--fill-color);\n",
              "      border-top-color: var(--fill-color);\n",
              "    }\n",
              "    30% {\n",
              "      border-color: transparent;\n",
              "      border-left-color: var(--fill-color);\n",
              "      border-top-color: var(--fill-color);\n",
              "      border-right-color: var(--fill-color);\n",
              "    }\n",
              "    40% {\n",
              "      border-color: transparent;\n",
              "      border-right-color: var(--fill-color);\n",
              "      border-top-color: var(--fill-color);\n",
              "    }\n",
              "    60% {\n",
              "      border-color: transparent;\n",
              "      border-right-color: var(--fill-color);\n",
              "    }\n",
              "    80% {\n",
              "      border-color: transparent;\n",
              "      border-right-color: var(--fill-color);\n",
              "      border-bottom-color: var(--fill-color);\n",
              "    }\n",
              "    90% {\n",
              "      border-color: transparent;\n",
              "      border-bottom-color: var(--fill-color);\n",
              "    }\n",
              "  }\n",
              "</style>\n",
              "\n",
              "  <script>\n",
              "    async function quickchart(key) {\n",
              "      const quickchartButtonEl =\n",
              "        document.querySelector('#' + key + ' button');\n",
              "      quickchartButtonEl.disabled = true;  // To prevent multiple clicks.\n",
              "      quickchartButtonEl.classList.add('colab-df-spinner');\n",
              "      try {\n",
              "        const charts = await google.colab.kernel.invokeFunction(\n",
              "            'suggestCharts', [key], {});\n",
              "      } catch (error) {\n",
              "        console.error('Error during call to suggestCharts:', error);\n",
              "      }\n",
              "      quickchartButtonEl.classList.remove('colab-df-spinner');\n",
              "      quickchartButtonEl.classList.add('colab-df-quickchart-complete');\n",
              "    }\n",
              "    (() => {\n",
              "      let quickchartButtonEl =\n",
              "        document.querySelector('#df-1021b291-4f73-4722-8324-b2dccde979de button');\n",
              "      quickchartButtonEl.style.display =\n",
              "        google.colab.kernel.accessAllowed ? 'block' : 'none';\n",
              "    })();\n",
              "  </script>\n",
              "</div>\n",
              "\n",
              "  <div id=\"id_eb598652-0c46-4bb9-aa66-27e822a71b5e\">\n",
              "    <style>\n",
              "      .colab-df-generate {\n",
              "        background-color: #E8F0FE;\n",
              "        border: none;\n",
              "        border-radius: 50%;\n",
              "        cursor: pointer;\n",
              "        display: none;\n",
              "        fill: #1967D2;\n",
              "        height: 32px;\n",
              "        padding: 0 0 0 0;\n",
              "        width: 32px;\n",
              "      }\n",
              "\n",
              "      .colab-df-generate:hover {\n",
              "        background-color: #E2EBFA;\n",
              "        box-shadow: 0px 1px 2px rgba(60, 64, 67, 0.3), 0px 1px 3px 1px rgba(60, 64, 67, 0.15);\n",
              "        fill: #174EA6;\n",
              "      }\n",
              "\n",
              "      [theme=dark] .colab-df-generate {\n",
              "        background-color: #3B4455;\n",
              "        fill: #D2E3FC;\n",
              "      }\n",
              "\n",
              "      [theme=dark] .colab-df-generate:hover {\n",
              "        background-color: #434B5C;\n",
              "        box-shadow: 0px 1px 3px 1px rgba(0, 0, 0, 0.15);\n",
              "        filter: drop-shadow(0px 1px 2px rgba(0, 0, 0, 0.3));\n",
              "        fill: #FFFFFF;\n",
              "      }\n",
              "    </style>\n",
              "    <button class=\"colab-df-generate\" onclick=\"generateWithVariable('df2')\"\n",
              "            title=\"Generate code using this dataframe.\"\n",
              "            style=\"display:none;\">\n",
              "\n",
              "  <svg xmlns=\"http://www.w3.org/2000/svg\" height=\"24px\"viewBox=\"0 0 24 24\"\n",
              "       width=\"24px\">\n",
              "    <path d=\"M7,19H8.4L18.45,9,17,7.55,7,17.6ZM5,21V16.75L18.45,3.32a2,2,0,0,1,2.83,0l1.4,1.43a1.91,1.91,0,0,1,.58,1.4,1.91,1.91,0,0,1-.58,1.4L9.25,21ZM18.45,9,17,7.55Zm-12,3A5.31,5.31,0,0,0,4.9,8.1,5.31,5.31,0,0,0,1,6.5,5.31,5.31,0,0,0,4.9,4.9,5.31,5.31,0,0,0,6.5,1,5.31,5.31,0,0,0,8.1,4.9,5.31,5.31,0,0,0,12,6.5,5.46,5.46,0,0,0,6.5,12Z\"/>\n",
              "  </svg>\n",
              "    </button>\n",
              "    <script>\n",
              "      (() => {\n",
              "      const buttonEl =\n",
              "        document.querySelector('#id_eb598652-0c46-4bb9-aa66-27e822a71b5e button.colab-df-generate');\n",
              "      buttonEl.style.display =\n",
              "        google.colab.kernel.accessAllowed ? 'block' : 'none';\n",
              "\n",
              "      buttonEl.onclick = () => {\n",
              "        google.colab.notebook.generateWithVariable('df2');\n",
              "      }\n",
              "      })();\n",
              "    </script>\n",
              "  </div>\n",
              "\n",
              "    </div>\n",
              "  </div>\n"
            ],
            "application/vnd.google.colaboratory.intrinsic+json": {
              "type": "dataframe",
              "variable_name": "df2",
              "summary": "{\n  \"name\": \"df2\",\n  \"rows\": 1674,\n  \"fields\": [\n    {\n      \"column\": \"# STATION\",\n      \"properties\": {\n        \"dtype\": \"category\",\n        \"num_unique_values\": 1,\n        \"samples\": [\n          \"COOP:352709\"\n        ],\n        \"semantic_type\": \"\",\n        \"description\": \"\"\n      }\n    },\n    {\n      \"column\": \"STATION_NAME\",\n      \"properties\": {\n        \"dtype\": \"category\",\n        \"num_unique_values\": 1,\n        \"samples\": [\n          \"EUGENE MAHLON SWEET FIELD OR US\"\n        ],\n        \"semantic_type\": \"\",\n        \"description\": \"\"\n      }\n    },\n    {\n      \"column\": \"ELEVATION\",\n      \"properties\": {\n        \"dtype\": \"number\",\n        \"std\": 3.326333680356396e-12,\n        \"min\": 107.6,\n        \"max\": 107.6,\n        \"num_unique_values\": 1,\n        \"samples\": [\n          107.6\n        ],\n        \"semantic_type\": \"\",\n        \"description\": \"\"\n      }\n    },\n    {\n      \"column\": \"LATITUDE\",\n      \"properties\": {\n        \"dtype\": \"number\",\n        \"std\": 4.0513038414597127e-13,\n        \"min\": 44.12778,\n        \"max\": 44.12778,\n        \"num_unique_values\": 1,\n        \"samples\": [\n          44.12778\n        ],\n        \"semantic_type\": \"\",\n        \"description\": \"\"\n      }\n    },\n    {\n      \"column\": \"LONGITUDE\",\n      \"properties\": {\n        \"dtype\": \"number\",\n        \"std\": 3.880722627082462e-12,\n        \"min\": -123.22056,\n        \"max\": -123.22056,\n        \"num_unique_values\": 1,\n        \"samples\": [\n          -123.22056\n        ],\n        \"semantic_type\": \"\",\n        \"description\": \"\"\n      }\n    },\n    {\n      \"column\": \"DATE\",\n      \"properties\": {\n        \"dtype\": \"object\",\n        \"num_unique_values\": 1674,\n        \"samples\": [\n          \"20001020 05:00\"\n        ],\n        \"semantic_type\": \"\",\n        \"description\": \"\"\n      }\n    },\n    {\n      \"column\": \"HPCP(cm)\",\n      \"properties\": {\n        \"dtype\": \"number\",\n        \"std\": 0.8657682139148128,\n        \"min\": 0.0,\n        \"max\": 8.64,\n        \"num_unique_values\": 27,\n        \"samples\": [\n          1.78\n        ],\n        \"semantic_type\": \"\",\n        \"description\": \"\"\n      }\n    },\n    {\n      \"column\": \"date and time\",\n      \"properties\": {\n        \"dtype\": \"date\",\n        \"min\": \"2000-01-01 01:00:00\",\n        \"max\": \"2001-01-01 01:00:00\",\n        \"num_unique_values\": 1674,\n        \"samples\": [\n          \"2000-10-20 05:00:00\"\n        ],\n        \"semantic_type\": \"\",\n        \"description\": \"\"\n      }\n    },\n    {\n      \"column\": \"HPCP(mm)\",\n      \"properties\": {\n        \"dtype\": \"number\",\n        \"std\": 8.657682139148063,\n        \"min\": 0.0,\n        \"max\": 86.4,\n        \"num_unique_values\": 27,\n        \"samples\": [\n          17.8\n        ],\n        \"semantic_type\": \"\",\n        \"description\": \"\"\n      }\n    }\n  ]\n}"
            }
          },
          "metadata": {},
          "execution_count": 111
        }
      ],
      "execution_count": 111
    },
    {
      "cell_type": "code",
      "source": [
        "val = df2[\"HPCP(cm)\"].sum() # sum of data of 2000"
      ],
      "metadata": {
        "execution": {
          "iopub.status.busy": "2022-09-14T11:02:58.648631Z",
          "iopub.execute_input": "2022-09-14T11:02:58.649578Z",
          "iopub.status.idle": "2022-09-14T11:02:58.656895Z",
          "shell.execute_reply.started": "2022-09-14T11:02:58.649524Z",
          "shell.execute_reply": "2022-09-14T11:02:58.655759Z"
        },
        "trusted": true,
        "id": "L6EKFeyOs0oQ"
      },
      "outputs": [],
      "execution_count": 112
    },
    {
      "cell_type": "markdown",
      "source": [
        "#### Conversion el valor de mm to m"
      ],
      "metadata": {
        "id": "neiH6EXBs0oR"
      }
    },
    {
      "cell_type": "code",
      "source": [
        "final_value = val*0.001\n",
        "print(\"Total precipitation en 2000 in metros: \", final_value, \"Metros\")"
      ],
      "metadata": {
        "execution": {
          "iopub.status.busy": "2022-09-14T11:02:58.658654Z",
          "iopub.execute_input": "2022-09-14T11:02:58.659481Z",
          "iopub.status.idle": "2022-09-14T11:02:58.672762Z",
          "shell.execute_reply.started": "2022-09-14T11:02:58.659431Z",
          "shell.execute_reply": "2022-09-14T11:02:58.670822Z"
        },
        "trusted": true,
        "colab": {
          "base_uri": "https://localhost:8080/"
        },
        "id": "NkLln4l-s0oT",
        "outputId": "80fb6692-d173-44f6-e340-eb64c9842935"
      },
      "outputs": [
        {
          "output_type": "stream",
          "name": "stdout",
          "text": [
            "Total precipitation en 2000 in metros:  0.86327 Metros\n"
          ]
        }
      ],
      "execution_count": 113
    },
    {
      "cell_type": "markdown",
      "source": [
        "Precipitacion año 2007"
      ],
      "metadata": {
        "id": "y2lyrGSLjrIO"
      }
    },
    {
      "cell_type": "code",
      "source": [
        "df_2007 = df1[df[\"date and time\"].dt.year == 2007]\n",
        "print(df_2007.head())"
      ],
      "metadata": {
        "colab": {
          "base_uri": "https://localhost:8080/"
        },
        "id": "cQRewTiejlKh",
        "outputId": "4f547c9e-faa2-4b06-e513-8b3d90e02223"
      },
      "execution_count": 114,
      "outputs": [
        {
          "output_type": "stream",
          "name": "stdout",
          "text": [
            "         # STATION                     STATION_NAME  ELEVATION  LATITUDE  \\\n",
            "11949  COOP:352709  EUGENE MAHLON SWEET FIELD OR US      107.6   44.1278   \n",
            "11950  COOP:352709  EUGENE MAHLON SWEET FIELD OR US      107.6   44.1278   \n",
            "11951  COOP:352709  EUGENE MAHLON SWEET FIELD OR US      107.6   44.1278   \n",
            "11952  COOP:352709  EUGENE MAHLON SWEET FIELD OR US      107.6   44.1278   \n",
            "11953  COOP:352709  EUGENE MAHLON SWEET FIELD OR US      107.6   44.1278   \n",
            "\n",
            "       LONGITUDE            DATE  HPCP(cm)       date and time  HPCP(mm)  \n",
            "11949  -123.2206  20070101 01:00      0.00 2007-01-01 01:00:00       0.0  \n",
            "11950  -123.2206  20070101 13:00      0.00 2007-01-01 13:00:00       0.0  \n",
            "11951  -123.2206  20070101 14:00      0.00 2007-01-01 14:00:00       0.0  \n",
            "11952  -123.2206  20070101 15:00      0.00 2007-01-01 15:00:00       0.0  \n",
            "11953  -123.2206  20070102 17:00      0.25 2007-01-02 17:00:00       2.5  \n"
          ]
        },
        {
          "output_type": "stream",
          "name": "stderr",
          "text": [
            "<ipython-input-114-571fe5dded4a>:1: UserWarning: Boolean Series key will be reindexed to match DataFrame index.\n",
            "  df_2007 = df1[df[\"date and time\"].dt.year == 2007]\n"
          ]
        }
      ]
    },
    {
      "cell_type": "code",
      "source": [
        "df3 = df1.tail(-11951)\n",
        "print(\"Data of 2007\")\n",
        "df3"
      ],
      "metadata": {
        "execution": {
          "iopub.status.busy": "2022-09-14T11:02:58.67448Z",
          "iopub.execute_input": "2022-09-14T11:02:58.67544Z",
          "iopub.status.idle": "2022-09-14T11:02:58.705458Z",
          "shell.execute_reply.started": "2022-09-14T11:02:58.675399Z",
          "shell.execute_reply": "2022-09-14T11:02:58.704471Z"
        },
        "trusted": true,
        "colab": {
          "base_uri": "https://localhost:8080/",
          "height": 106
        },
        "id": "4qY_Ooy-s0oU",
        "outputId": "873caf6a-fb60-4d96-bb9d-ec0e786681c2"
      },
      "outputs": [
        {
          "output_type": "stream",
          "name": "stdout",
          "text": [
            "Data of 2007\n"
          ]
        },
        {
          "output_type": "execute_result",
          "data": {
            "text/plain": [
              "Empty DataFrame\n",
              "Columns: [# STATION, STATION_NAME, ELEVATION, LATITUDE, LONGITUDE, DATE, HPCP(cm), date and time, HPCP(mm)]\n",
              "Index: []"
            ],
            "text/html": [
              "\n",
              "  <div id=\"df-4eba5fcd-25cf-4ac8-b084-4fcc439f5b53\" class=\"colab-df-container\">\n",
              "    <div>\n",
              "<style scoped>\n",
              "    .dataframe tbody tr th:only-of-type {\n",
              "        vertical-align: middle;\n",
              "    }\n",
              "\n",
              "    .dataframe tbody tr th {\n",
              "        vertical-align: top;\n",
              "    }\n",
              "\n",
              "    .dataframe thead th {\n",
              "        text-align: right;\n",
              "    }\n",
              "</style>\n",
              "<table border=\"1\" class=\"dataframe\">\n",
              "  <thead>\n",
              "    <tr style=\"text-align: right;\">\n",
              "      <th></th>\n",
              "      <th># STATION</th>\n",
              "      <th>STATION_NAME</th>\n",
              "      <th>ELEVATION</th>\n",
              "      <th>LATITUDE</th>\n",
              "      <th>LONGITUDE</th>\n",
              "      <th>DATE</th>\n",
              "      <th>HPCP(cm)</th>\n",
              "      <th>date and time</th>\n",
              "      <th>HPCP(mm)</th>\n",
              "    </tr>\n",
              "  </thead>\n",
              "  <tbody>\n",
              "  </tbody>\n",
              "</table>\n",
              "</div>\n",
              "    <div class=\"colab-df-buttons\">\n",
              "\n",
              "  <div class=\"colab-df-container\">\n",
              "    <button class=\"colab-df-convert\" onclick=\"convertToInteractive('df-4eba5fcd-25cf-4ac8-b084-4fcc439f5b53')\"\n",
              "            title=\"Convert this dataframe to an interactive table.\"\n",
              "            style=\"display:none;\">\n",
              "\n",
              "  <svg xmlns=\"http://www.w3.org/2000/svg\" height=\"24px\" viewBox=\"0 -960 960 960\">\n",
              "    <path d=\"M120-120v-720h720v720H120Zm60-500h600v-160H180v160Zm220 220h160v-160H400v160Zm0 220h160v-160H400v160ZM180-400h160v-160H180v160Zm440 0h160v-160H620v160ZM180-180h160v-160H180v160Zm440 0h160v-160H620v160Z\"/>\n",
              "  </svg>\n",
              "    </button>\n",
              "\n",
              "  <style>\n",
              "    .colab-df-container {\n",
              "      display:flex;\n",
              "      gap: 12px;\n",
              "    }\n",
              "\n",
              "    .colab-df-convert {\n",
              "      background-color: #E8F0FE;\n",
              "      border: none;\n",
              "      border-radius: 50%;\n",
              "      cursor: pointer;\n",
              "      display: none;\n",
              "      fill: #1967D2;\n",
              "      height: 32px;\n",
              "      padding: 0 0 0 0;\n",
              "      width: 32px;\n",
              "    }\n",
              "\n",
              "    .colab-df-convert:hover {\n",
              "      background-color: #E2EBFA;\n",
              "      box-shadow: 0px 1px 2px rgba(60, 64, 67, 0.3), 0px 1px 3px 1px rgba(60, 64, 67, 0.15);\n",
              "      fill: #174EA6;\n",
              "    }\n",
              "\n",
              "    .colab-df-buttons div {\n",
              "      margin-bottom: 4px;\n",
              "    }\n",
              "\n",
              "    [theme=dark] .colab-df-convert {\n",
              "      background-color: #3B4455;\n",
              "      fill: #D2E3FC;\n",
              "    }\n",
              "\n",
              "    [theme=dark] .colab-df-convert:hover {\n",
              "      background-color: #434B5C;\n",
              "      box-shadow: 0px 1px 3px 1px rgba(0, 0, 0, 0.15);\n",
              "      filter: drop-shadow(0px 1px 2px rgba(0, 0, 0, 0.3));\n",
              "      fill: #FFFFFF;\n",
              "    }\n",
              "  </style>\n",
              "\n",
              "    <script>\n",
              "      const buttonEl =\n",
              "        document.querySelector('#df-4eba5fcd-25cf-4ac8-b084-4fcc439f5b53 button.colab-df-convert');\n",
              "      buttonEl.style.display =\n",
              "        google.colab.kernel.accessAllowed ? 'block' : 'none';\n",
              "\n",
              "      async function convertToInteractive(key) {\n",
              "        const element = document.querySelector('#df-4eba5fcd-25cf-4ac8-b084-4fcc439f5b53');\n",
              "        const dataTable =\n",
              "          await google.colab.kernel.invokeFunction('convertToInteractive',\n",
              "                                                    [key], {});\n",
              "        if (!dataTable) return;\n",
              "\n",
              "        const docLinkHtml = 'Like what you see? Visit the ' +\n",
              "          '<a target=\"_blank\" href=https://colab.research.google.com/notebooks/data_table.ipynb>data table notebook</a>'\n",
              "          + ' to learn more about interactive tables.';\n",
              "        element.innerHTML = '';\n",
              "        dataTable['output_type'] = 'display_data';\n",
              "        await google.colab.output.renderOutput(dataTable, element);\n",
              "        const docLink = document.createElement('div');\n",
              "        docLink.innerHTML = docLinkHtml;\n",
              "        element.appendChild(docLink);\n",
              "      }\n",
              "    </script>\n",
              "  </div>\n",
              "\n",
              "\n",
              "  <div id=\"id_c3626c60-b2cf-477b-b75f-5ad1f82cf2a1\">\n",
              "    <style>\n",
              "      .colab-df-generate {\n",
              "        background-color: #E8F0FE;\n",
              "        border: none;\n",
              "        border-radius: 50%;\n",
              "        cursor: pointer;\n",
              "        display: none;\n",
              "        fill: #1967D2;\n",
              "        height: 32px;\n",
              "        padding: 0 0 0 0;\n",
              "        width: 32px;\n",
              "      }\n",
              "\n",
              "      .colab-df-generate:hover {\n",
              "        background-color: #E2EBFA;\n",
              "        box-shadow: 0px 1px 2px rgba(60, 64, 67, 0.3), 0px 1px 3px 1px rgba(60, 64, 67, 0.15);\n",
              "        fill: #174EA6;\n",
              "      }\n",
              "\n",
              "      [theme=dark] .colab-df-generate {\n",
              "        background-color: #3B4455;\n",
              "        fill: #D2E3FC;\n",
              "      }\n",
              "\n",
              "      [theme=dark] .colab-df-generate:hover {\n",
              "        background-color: #434B5C;\n",
              "        box-shadow: 0px 1px 3px 1px rgba(0, 0, 0, 0.15);\n",
              "        filter: drop-shadow(0px 1px 2px rgba(0, 0, 0, 0.3));\n",
              "        fill: #FFFFFF;\n",
              "      }\n",
              "    </style>\n",
              "    <button class=\"colab-df-generate\" onclick=\"generateWithVariable('df3')\"\n",
              "            title=\"Generate code using this dataframe.\"\n",
              "            style=\"display:none;\">\n",
              "\n",
              "  <svg xmlns=\"http://www.w3.org/2000/svg\" height=\"24px\"viewBox=\"0 0 24 24\"\n",
              "       width=\"24px\">\n",
              "    <path d=\"M7,19H8.4L18.45,9,17,7.55,7,17.6ZM5,21V16.75L18.45,3.32a2,2,0,0,1,2.83,0l1.4,1.43a1.91,1.91,0,0,1,.58,1.4,1.91,1.91,0,0,1-.58,1.4L9.25,21ZM18.45,9,17,7.55Zm-12,3A5.31,5.31,0,0,0,4.9,8.1,5.31,5.31,0,0,0,1,6.5,5.31,5.31,0,0,0,4.9,4.9,5.31,5.31,0,0,0,6.5,1,5.31,5.31,0,0,0,8.1,4.9,5.31,5.31,0,0,0,12,6.5,5.46,5.46,0,0,0,6.5,12Z\"/>\n",
              "  </svg>\n",
              "    </button>\n",
              "    <script>\n",
              "      (() => {\n",
              "      const buttonEl =\n",
              "        document.querySelector('#id_c3626c60-b2cf-477b-b75f-5ad1f82cf2a1 button.colab-df-generate');\n",
              "      buttonEl.style.display =\n",
              "        google.colab.kernel.accessAllowed ? 'block' : 'none';\n",
              "\n",
              "      buttonEl.onclick = () => {\n",
              "        google.colab.notebook.generateWithVariable('df3');\n",
              "      }\n",
              "      })();\n",
              "    </script>\n",
              "  </div>\n",
              "\n",
              "    </div>\n",
              "  </div>\n"
            ],
            "application/vnd.google.colaboratory.intrinsic+json": {
              "type": "dataframe",
              "variable_name": "df3",
              "repr_error": "Out of range float values are not JSON compliant: nan"
            }
          },
          "metadata": {},
          "execution_count": 115
        }
      ],
      "execution_count": 115
    },
    {
      "cell_type": "code",
      "source": [
        "val2 = df_2007[\"HPCP(cm)\"].sum()"
      ],
      "metadata": {
        "execution": {
          "iopub.status.busy": "2022-09-14T11:02:58.706804Z",
          "iopub.execute_input": "2022-09-14T11:02:58.708147Z",
          "iopub.status.idle": "2022-09-14T11:02:58.718428Z",
          "shell.execute_reply.started": "2022-09-14T11:02:58.70806Z",
          "shell.execute_reply": "2022-09-14T11:02:58.716333Z"
        },
        "trusted": true,
        "id": "sxUXRYG9s0oU"
      },
      "outputs": [],
      "execution_count": 116
    },
    {
      "cell_type": "code",
      "source": [
        "final_value2 = val2 * 0.01"
      ],
      "metadata": {
        "execution": {
          "iopub.status.busy": "2022-09-14T11:02:58.719975Z",
          "iopub.execute_input": "2022-09-14T11:02:58.721174Z",
          "iopub.status.idle": "2022-09-14T11:02:58.732398Z",
          "shell.execute_reply.started": "2022-09-14T11:02:58.721114Z",
          "shell.execute_reply": "2022-09-14T11:02:58.73056Z"
        },
        "trusted": true,
        "id": "Qjgr0_RGs0oU"
      },
      "outputs": [],
      "execution_count": 117
    },
    {
      "cell_type": "code",
      "source": [
        "print(\"Total precipitation in 2007 in m: \", final_value2, \"Mettros\")"
      ],
      "metadata": {
        "execution": {
          "iopub.status.busy": "2022-09-14T11:02:58.735016Z",
          "iopub.execute_input": "2022-09-14T11:02:58.736483Z",
          "iopub.status.idle": "2022-09-14T11:02:58.746959Z",
          "shell.execute_reply.started": "2022-09-14T11:02:58.736418Z",
          "shell.execute_reply": "2022-09-14T11:02:58.745645Z"
        },
        "trusted": true,
        "colab": {
          "base_uri": "https://localhost:8080/"
        },
        "id": "6A60Ov92s0oV",
        "outputId": "46fdab38-e083-49fe-801c-fcdb36d1dffb"
      },
      "outputs": [
        {
          "output_type": "stream",
          "name": "stdout",
          "text": [
            "Total precipitation in 2007 in m:  8.677000000000001 Mettros\n"
          ]
        }
      ],
      "execution_count": 121
    }
  ]
}